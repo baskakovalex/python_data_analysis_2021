{
  "nbformat": 4,
  "nbformat_minor": 0,
  "metadata": {
    "colab": {
      "name": "Untitled0.ipynb",
      "provenance": [],
      "collapsed_sections": []
    },
    "kernelspec": {
      "name": "python3",
      "display_name": "Python 3"
    },
    "language_info": {
      "name": "python"
    }
  },
  "cells": [
    {
      "cell_type": "code",
      "metadata": {
        "colab": {
          "base_uri": "https://localhost:8080/"
        },
        "id": "cTQ9AalDhzPd",
        "outputId": "2e3ed129-0682-4fe7-a055-f3067a9e543d"
      },
      "source": [
        "import math\n",
        "import numpy as np\n",
        "import pandas as pd \n",
        "import geopandas as gpd\n",
        "import geopy\n",
        "import nltk\n",
        "from shapely.geometry import Polygon, Point, LineString\n",
        "import random\n",
        "from matplotlib import pyplot as plt\n",
        "import folium\n",
        "from geopy.geocoders import Yandex, GoogleV3\n",
        "import random\n",
        "\n",
        "mipt = Point(55.9297243, 37.5199434)\n",
        "kremlin = Point(55.752023, 37.6174994)\n",
        "\n",
        "def get_geodesic_distance(coord1, coord2):\n",
        "    R = 6371800  # Earth radius in meters\n",
        "    lat1, lon1 = coord1.x, coord1.y\n",
        "    lat2, lon2 = coord2.x,coord2.y\n",
        "    \n",
        "    phi1, phi2 = math.radians(lat1), math.radians(lat2) \n",
        "    dphi       = math.radians(lat2 - lat1)\n",
        "    dlambda    = math.radians(lon2 - lon1)\n",
        "    \n",
        "    a = math.sin(dphi/2)**2 + \\\n",
        "        math.cos(phi1)*math.cos(phi2)*math.sin(dlambda/2)**2\n",
        "    \n",
        "    return 2*R*math.atan2(math.sqrt(a), math.sqrt(1 - a))/1000\n",
        "\n",
        "get_geodesic_distance(mipt,kremlin)"
      ],
      "execution_count": 15,
      "outputs": [
        {
          "output_type": "execute_result",
          "data": {
            "text/plain": [
              "20.679548379647574"
            ]
          },
          "metadata": {
            "tags": []
          },
          "execution_count": 15
        }
      ]
    },
    {
      "cell_type": "code",
      "metadata": {
        "id": "Mo29u94Pl0WA"
      },
      "source": [
        ""
      ],
      "execution_count": 9,
      "outputs": []
    },
    {
      "cell_type": "markdown",
      "metadata": {
        "id": "atgefA2U2y8l"
      },
      "source": [
        "Второе"
      ]
    },
    {
      "cell_type": "code",
      "metadata": {
        "id": "5ckCzb_Gx37m"
      },
      "source": [
        "import os\n",
        "import math\n",
        "import numpy as np\n",
        "import pandas as pd \n",
        "import geopandas as gpd\n",
        "import geopy\n",
        "import nltk\n",
        "from shapely.geometry import Polygon, Point, LineString\n",
        "import random\n",
        "from matplotlib import pyplot as plt\n",
        "import folium\n",
        "from geopy.geocoders import Yandex, GoogleV3\n",
        "import random\n",
        "\n",
        "\n",
        "\n",
        "big_moscow_districts = gpd.read_file('big_moscow_districts.shp')\n",
        "big_moscow_districts.plot"
      ],
      "execution_count": null,
      "outputs": []
    },
    {
      "cell_type": "code",
      "metadata": {
        "id": "LIdP10yEsufa"
      },
      "source": [
        "\n",
        "\n",
        "def nearest_centroid(origin, neighbours):\n",
        "    A = []\n",
        "    c = origin.centroid\n",
        "    for i, n in enumerate(neighbours):\n",
        "        nc = n.centroid\n",
        "        A.append((nc.distance(c), i))\n",
        "    A.sort()\n",
        "    return A\n",
        "\n",
        "def nearest_board(origin, neighbours):\n",
        "    A = []\n",
        "    b = origin.boundary\n",
        "    for i, n in enumerate(neighbours):\n",
        "        bn = n.boundary\n",
        "        p1, p2 = nearest_points(b, bn)\n",
        "        A.append((p1.distance(p2), i))\n",
        "    A.sort()\n",
        "    return A\n",
        "\n",
        "def nearest(origin, neighbours, k=10, kind='by_centroid'):\n",
        "    neighbours = [n for n in neighbours if not n.almost_equals(origin)]\n",
        "    if kind == 'by_centroid':\n",
        "        r = nearest_centroid(origin, neighbours)\n",
        "    else:\n",
        "        r = nearest_board(origin, neighbours)\n",
        "    r = r[:k]\n",
        "    return gpd.GeoDataFrame({\n",
        "        'dist': [v[0] for v in r],\n",
        "        'geometry': [neighbours[v[1]] for v in r]\n",
        "    })\n",
        "\n"
      ],
      "execution_count": 1,
      "outputs": []
    },
    {
      "cell_type": "code",
      "metadata": {
        "id": "4dgGetfmyaKv"
      },
      "source": [
        "import random\n",
        "\n",
        "polygon = random.sample(big_moscow_districts['geometry'].tolist(), 1)[0]\n",
        "polygons = random.sample(big_moscow_districts['geometry'].tolist(), 50)\n",
        "\n",
        "nearest_board_funct = nearest(polygon, polygons, k=10, kind='by_board')\n",
        "nearest_centroid_funct = nearest(polygon, polygons, k=10, kind='by_centroid')\n",
        "nearest_centroid_funct;"
      ],
      "execution_count": 6,
      "outputs": []
    },
    {
      "cell_type": "code",
      "metadata": {
        "id": "xbXd7wPRqPoX"
      },
      "source": [
        "fig = plt.figure(figsize=(20, 10))\n",
        "\n",
        "ax = plt.subplot(1, 2, 1)\n",
        "big_moscow_districts.plot(ax=ax, color='white', edgecolor='black')\n",
        "nearest_centroid_funct.plot(ax=ax, color='red')\n",
        "gpd.GeoSeries(polygon).plot(ax=ax, color='green')\n",
        "plt.title('Neighbours/centroid')\n",
        "ax.set_axis_off()\n",
        "\n",
        "ax = plt.subplot(1, 2, 2)\n",
        "nearest_centroid.plot(ax=ax, color='white', edgecolor='black')\n",
        "nearest_board_funct.plot(ax=ax, color='red')\n",
        "gpd.GeoSeries(polygon).plot(ax=ax, color='green')\n",
        "plt.title('Neighbours/board ')\n",
        "ax.set_axis_off()"
      ],
      "execution_count": 4,
      "outputs": []
    },
    {
      "cell_type": "markdown",
      "metadata": {
        "id": "FBxSqtmbz8y4"
      },
      "source": [
        "третье"
      ]
    },
    {
      "cell_type": "code",
      "metadata": {
        "id": "iqdi20rdz_nx"
      },
      "source": [
        "grid_big_moscow = gpd.read_file('../downloads/grid_big_moscow.shp')\n",
        "grid_big_moscow.crs = \"EPSG:4326\"  \n",
        "grid_big_moscow['random_value'] = np.random.randint(0, 100, len(grid_big_moscow))\n",
        "\n",
        "\n",
        "\n",
        "def spatial_resample(agg_polygons, init_polygons, method, column, kind):\n",
        "    \n",
        "    \n",
        "    \n",
        "    def aggregator(intersect_frame):\n",
        "\n",
        "        if intersect_frame['random_value_prop'] != intersect_frame['max_value']:\n",
        "            intersect_frame[column] = 0\n",
        "        return intersect_frame\n",
        "    \n",
        "    \n",
        "\n",
        "    init_polygons['FID_1'] = init_polygons.index\n",
        "    \n",
        "    agg_polygons['FID_2'] = agg_polygons.index\n",
        "    \n",
        "    init_polygons['area'] = init_polygons.geometry.area\n",
        "\n",
        "    intersect_frame = gpd.overlay(init_polygons, agg_polygons, how = 'intersection')\n",
        "\n",
        "\n",
        "    intersect_frame['intersection_area'] = intersect_frame.geometry.area\n",
        "\n",
        "    intersect_frame['random_value_prop'] = ((intersect_frame['intersection_area']\n",
        "                                             * intersect_frame[column])/intersect_frame['area'])\n",
        "    joined = gpd.sjoin(intersect_frame, agg_polygons, how='right', op='covered_by')\n",
        "    \n",
        "    if kind == 'prop':\n",
        "        \n",
        "        \n",
        "        return (joined.dissolve(by = joined.index, how = method ))\n",
        "    elif kind == 'max':\n",
        "        \n",
        "        intersect_frame['max_value']= intersect_frame.groupby(['FID_1'])['random_value_prop'].transform(max)\n",
        "        \n",
        "        intersect_frame = intersect_frame.apply(aggregator, axis=1)\n",
        "        \n",
        "        joined_data = gpd.sjoin(intersect_frame, agg_polygons, how = 'right', op='covered_by')\n",
        "        \n",
        "        return (joined_data.dissolve(by = joined_data.index, aggfunc= method))\n",
        "       "
      ],
      "execution_count": null,
      "outputs": []
    },
    {
      "cell_type": "code",
      "metadata": {
        "id": "DS_oLam90KYc"
      },
      "source": [
        "mean_table = spatial_resample(agg_polygons=big_moscow_districts, init_polygons=grid_big_moscow, \n",
        "                                       method='mean', column='random_value', kind='max')\n",
        "sum_table = spatial_resample(agg_polygons=big_moscow_districts, init_polygons=grid_big_moscow, \n",
        "                                       method='sum', column='random_value', kind='max')"
      ],
      "execution_count": null,
      "outputs": []
    },
    {
      "cell_type": "code",
      "metadata": {
        "id": "yiyDW1wo0tYt"
      },
      "source": [
        "fig = plt.figure(figsize =(20,10))\n",
        "ax =plt.subplot(1,2,1)\n",
        "plt.title('mean func', fontsize=20)\n",
        "mean_table.plot(ax = ax, column = 'random_value', cmap='viridis', edgecolor='white', legend=True)\n",
        "ax.set_axis_off()\n",
        "\n",
        "\n",
        "ax = plt.subplot(1,2,2)\n",
        "plt.title('sum func', fontsize=20)\n",
        "sum_table.plot(ax = ax, column = 'random_value', cmap='viridis', edgecolor='white', legend=True)\n",
        "ax.set_axis_off()"
      ],
      "execution_count": null,
      "outputs": []
    }
  ]
}